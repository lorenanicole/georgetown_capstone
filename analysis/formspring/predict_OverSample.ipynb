{
 "cells": [
  {
   "cell_type": "code",
   "execution_count": 12,
   "metadata": {},
   "outputs": [],
   "source": [
    "%matplotlib inline\n",
    "import pickle\n",
    "import numpy\n",
    "numpy.random.seed(42)\n",
    "from pprint import pprint\n",
    "from sklearn.pipeline import Pipeline\n",
    "# metric model to evaluate the model performance\n",
    "from sklearn import metrics\n",
    "from sklearn.model_selection import KFold\n",
    "import pandas as pd\n",
    "from sklearn.svm import SVC\n",
    "from sklearn.naive_bayes import  MultinomialNB\n",
    "from sklearn.linear_model import LogisticRegression, SGDClassifier\n",
    "from sklearn.feature_extraction.text import TfidfVectorizer\n",
    "from sklearn.neural_network import MLPClassifier\n"
   ]
  },
  {
   "cell_type": "code",
   "execution_count": 13,
   "metadata": {},
   "outputs": [],
   "source": [
    "#The formspring dataset was cleaned and labeling was converted to binary form using \n",
    "#extract.py script and loaded into pickle files\n",
    "words_file = \"my_dataset.pkl\"\n",
    "labels_file = \"my_feature_list.pkl\"\n",
    "word_data = pickle.load( open(words_file, \"rb\"))\n",
    "labels_data = pickle.load( open(labels_file, \"rb\") )\n",
    "#convert labels_data to integers\n",
    "labels_data = [int(i) for i in labels_data]\n"
   ]
  },
  {
   "cell_type": "code",
   "execution_count": 14,
   "metadata": {},
   "outputs": [
    {
     "data": {
      "text/plain": [
       "(11954, 2)"
      ]
     },
     "execution_count": 14,
     "metadata": {},
     "output_type": "execute_result"
    }
   ],
   "source": [
    "bully_df= pd.DataFrame({'text': word_data,'flag': labels_data})\n",
    "bully_df[bully_df.flag ==0].shape"
   ]
  },
  {
   "cell_type": "code",
   "execution_count": 22,
   "metadata": {
    "scrolled": true
   },
   "outputs": [
    {
     "name": "stdout",
     "output_type": "stream",
     "text": [
      "(747, 2)\n",
      "(11954, 2)\n"
     ]
    }
   ],
   "source": [
    "df_subset = bully_df[bully_df.flag ==1]\n",
    "print(df_subset.shape)\n",
    "frames_to_cat = [bully_df, df_subset]\n",
    "df_final = pd.concat(frames_to_cat)\n",
    "print(df_final[df_final.flag == 0].shape)"
   ]
  },
  {
   "cell_type": "code",
   "execution_count": 16,
   "metadata": {},
   "outputs": [
    {
     "data": {
      "text/plain": [
       "0    0\n",
       "1    0\n",
       "2    0\n",
       "3    0\n",
       "4    0\n",
       "Name: flag, dtype: int64"
      ]
     },
     "execution_count": 16,
     "metadata": {},
     "output_type": "execute_result"
    }
   ],
   "source": [
    "word_data = df_final['text']\n",
    "labels_data = df_final['flag']\n",
    "labels_data.head()"
   ]
  },
  {
   "cell_type": "code",
   "execution_count": 17,
   "metadata": {},
   "outputs": [],
   "source": [
    "from sklearn import model_selection\n",
    "features_train, features_test, labels_train, labels_test = model_selection.train_test_split(word_data,labels_data, test_size=0.1, random_state=42)\n"
   ]
  },
  {
   "cell_type": "code",
   "execution_count": 18,
   "metadata": {},
   "outputs": [
    {
     "name": "stdout",
     "output_type": "stream",
     "text": [
      "actual features (12103, 119880)\n"
     ]
    }
   ],
   "source": [
    "vectorizer = TfidfVectorizer(sublinear_tf=True, max_df=0.20, ngram_range = (1,2),\n",
    "                              stop_words='english', use_idf=True)\n",
    "\n",
    "#pprint.pprint(vectorizer.transform(features_train))\n",
    "\n",
    "features_train = vectorizer.fit_transform(features_train)\n",
    "features_test  = vectorizer.transform(features_test)\n",
    "#pprint.pprint(vectorizer.get_feature_names())\n",
    "print(\"actual features\", features_train.get_shape())\n",
    "\n",
    "from sklearn import tree\n",
    "from sklearn.metrics import accuracy_score\n",
    "\n",
    "clf = MLPClassifier(solver='lbfgs', alpha=1e-5, hidden_layer_sizes=(15,4), random_state=1)\n",
    "clf = clf.fit(features_train, labels_train)\n",
    "pred =  clf.predict(features_test)\n"
   ]
  },
  {
   "cell_type": "code",
   "execution_count": 34,
   "metadata": {},
   "outputs": [
    {
     "name": "stdout",
     "output_type": "stream",
     "text": [
      "0.963568773234\n",
      "             precision    recall  f1-score   support\n",
      "\n",
      "          0       0.99      0.97      0.98      1191\n",
      "          1       0.80      0.92      0.85       154\n",
      "\n",
      "avg / total       0.97      0.96      0.96      1345\n",
      "\n"
     ]
    }
   ],
   "source": [
    "print(metrics.accuracy_score(labels_test, pred))\n",
    "print(metrics.classification_report(labels_test, pred))\n"
   ]
  },
  {
   "cell_type": "code",
   "execution_count": null,
   "metadata": {},
   "outputs": [],
   "source": []
  }
 ],
 "metadata": {
  "kernelspec": {
   "display_name": "Python 3",
   "language": "python",
   "name": "python3"
  },
  "language_info": {
   "codemirror_mode": {
    "name": "ipython",
    "version": 3
   },
   "file_extension": ".py",
   "mimetype": "text/x-python",
   "name": "python",
   "nbconvert_exporter": "python",
   "pygments_lexer": "ipython3",
   "version": "3.6.3"
  }
 },
 "nbformat": 4,
 "nbformat_minor": 2
}
