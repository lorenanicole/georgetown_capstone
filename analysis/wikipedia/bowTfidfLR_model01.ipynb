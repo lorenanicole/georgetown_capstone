{
 "cells": [
  {
   "cell_type": "code",
   "execution_count": 1,
   "metadata": {},
   "outputs": [
    {
     "name": "stderr",
     "output_type": "stream",
     "text": [
      "/anaconda/lib/python3.6/site-packages/sklearn/cross_validation.py:44: DeprecationWarning: This module was deprecated in version 0.18 in favor of the model_selection module into which all the refactored classes and functions are moved. Also note that the interface of the new CV iterators are different from that of this module. This module will be removed in 0.20.\n",
      "  \"This module will be removed in 0.20.\", DeprecationWarning)\n"
     ]
    }
   ],
   "source": [
    "# import necessary tools\n",
    "import numpy as np\n",
    "import pandas as pd\n",
    "import matplotlib.pyplot as plt\n",
    "from sklearn.model_selection import train_test_split\n",
    "from sklearn import cross_validation\n",
    "from sklearn.feature_extraction.text import CountVectorizer\n",
    "from sklearn.linear_model import LogisticRegression\n",
    "from sklearn.feature_extraction.text import TfidfTransformer\n",
    "from sklearn.pipeline import Pipeline\n",
    "from sklearn import metrics\n",
    "from sklearn.metrics import precision_recall_curve"
   ]
  },
  {
   "cell_type": "code",
   "execution_count": 2,
   "metadata": {
    "collapsed": true
   },
   "outputs": [],
   "source": [
    "comments = pd.read_csv('attack_annotated_comments.tsv', sep='\\t', index_col=0)\n"
   ]
  },
  {
   "cell_type": "code",
   "execution_count": 3,
   "metadata": {
    "collapsed": true
   },
   "outputs": [],
   "source": [
    "annotations = pd.read_csv('attack_annotations.tsv', sep='\\t')"
   ]
  },
  {
   "cell_type": "code",
   "execution_count": 4,
   "metadata": {},
   "outputs": [
    {
     "name": "stdout",
     "output_type": "stream",
     "text": [
      "There are 115864 unique rev_id\n"
     ]
    }
   ],
   "source": [
    "print('There are', len(annotations['rev_id'].unique()), 'unique rev_id')"
   ]
  },
  {
   "cell_type": "code",
   "execution_count": 5,
   "metadata": {
    "collapsed": true
   },
   "outputs": [],
   "source": [
    "# labels a comment as an attack if the majority of annotators did so\n",
    "labels = annotations.groupby('rev_id')['attack'].mean() > 0.5"
   ]
  },
  {
   "cell_type": "code",
   "execution_count": 6,
   "metadata": {
    "collapsed": true
   },
   "outputs": [],
   "source": [
    "# insert labels in comments\n",
    "comments['attack'] = labels"
   ]
  },
  {
   "cell_type": "code",
   "execution_count": 7,
   "metadata": {
    "collapsed": true
   },
   "outputs": [],
   "source": [
    "# Parsing: remove newline and tab tokens\n",
    "comments['comment'] = comments['comment'].apply(lambda x: x.replace(\"NEWLINE_TOKEN\", \" \"))\n",
    "comments['comment'] = comments['comment'].apply(lambda x: x.replace(\"TAB_TOKEN\", \" \"))"
   ]
  },
  {
   "cell_type": "code",
   "execution_count": 8,
   "metadata": {
    "collapsed": true
   },
   "outputs": [],
   "source": [
    "# holdout\n",
    "\n",
    "holdout_comments = pd.read_csv('attack_annotated_comments_prova.csv', index_col=0)\n",
    "holdout_annotations = pd.read_csv('attack_annotations_prova.csv')\n",
    "\n",
    "holdout_labels = holdout_annotations.groupby('rev_id')['attack'].mean() > 0.5\n",
    "\n",
    "holdout_comments['attack'] = holdout_labels\n",
    "\n",
    "holdout_comments['comment'] = holdout_comments['comment'].apply(lambda x: x.replace(\"NEWLINE_TOKEN\", \" \"))\n",
    "holdout_comments['comment'] = holdout_comments['comment'].apply(lambda x: x.replace(\"TAB_TOKEN\", \" \"))"
   ]
  },
  {
   "cell_type": "code",
   "execution_count": 9,
   "metadata": {},
   "outputs": [
    {
     "name": "stdout",
     "output_type": "stream",
     "text": [
      "This is your DataFrame:\n",
      "\n",
      "                                                  comment  year  logged_in  \\\n",
      "rev_id                                                                       \n",
      "37675   `- This is not ``creative``.  Those are the di...  2002      False   \n",
      "44816   `  :: the term ``standard model`` is itself le...  2002      False   \n",
      "49851     True or false, the situation as of March 200...  2002      False   \n",
      "89320    Next, maybe you could work on being less cond...  2002       True   \n",
      "93890                This page will need disambiguation.   2002       True   \n",
      "\n",
      "             ns  sample  split  attack  \n",
      "rev_id                                  \n",
      "37675   article  random  train   False  \n",
      "44816   article  random  train   False  \n",
      "49851   article  random  train   False  \n",
      "89320   article  random    dev   False  \n",
      "93890   article  random  train   False  \n",
      "These are the head of the comments classified as an attack\n",
      "\n",
      "rev_id\n",
      "801279             Iraq is not good  ===  ===  USA is bad   \n",
      "2702703      ____ fuck off you little asshole. If you wan...\n",
      "4632658         i have a dick, its bigger than yours! hahaha\n",
      "6545332      == renault ==  you sad little bpy for drivin...\n",
      "6545351      == renault ==  you sad little bo for driving...\n",
      "Name: comment, dtype: object\n"
     ]
    }
   ],
   "source": [
    "# Presentation\n",
    "\n",
    "print('This is your DataFrame:\\n')\n",
    "print(comments.head())\n",
    "print('These are the head of the comments classified as an attack\\n')\n",
    "print(comments.query('attack')['comment'].head())"
   ]
  },
  {
   "cell_type": "code",
   "execution_count": 10,
   "metadata": {
    "collapsed": true
   },
   "outputs": [],
   "source": [
    "# create y which is the outcome label the model has to learn\n",
    "X = comments['comment']\n",
    "y = comments['attack']\n",
    "\n",
    "X_extverif = holdout_comments['comment']\n",
    "y_extverif = holdout_comments['attack']"
   ]
  },
  {
   "cell_type": "code",
   "execution_count": 11,
   "metadata": {
    "collapsed": true
   },
   "outputs": [],
   "source": [
    "# split the dataframe into training and testing data\n",
    "X_train, X_test, y_train, y_test = cross_validation.train_test_split(X, y, test_size=0.33, random_state=53)"
   ]
  },
  {
   "cell_type": "code",
   "execution_count": 12,
   "metadata": {
    "collapsed": true
   },
   "outputs": [],
   "source": [
    "# Setup the pipeline\n",
    "steps = [('vec', CountVectorizer(max_features=50000, analyzer='char', ngram_range=(1, 5))),\n",
    "         ('tfidf', TfidfTransformer(norm='l2', sublinear_tf=True)),\n",
    "         ('clf', LogisticRegression(C=10))]\n",
    "\n",
    "pipeline = Pipeline(steps)"
   ]
  },
  {
   "cell_type": "code",
   "execution_count": 13,
   "metadata": {},
   "outputs": [
    {
     "name": "stdout",
     "output_type": "stream",
     "text": [
      "Pipeline(steps=[('vec', CountVectorizer(analyzer='char', binary=False, decode_error='strict',\n",
      "        dtype=<class 'numpy.int64'>, encoding='utf-8', input='content',\n",
      "        lowercase=True, max_df=1.0, max_features=50000, min_df=1,\n",
      "        ngram_range=(1, 5), preprocessor=None, stop_words=None,\n",
      "        strip...ty='l2', random_state=None, solver='liblinear', tol=0.0001,\n",
      "          verbose=0, warm_start=False))])\n"
     ]
    }
   ],
   "source": [
    "# Fit to the training set\n",
    "pipeline.fit(X_train, y_train)\n",
    "\n",
    "print(pipeline)\n"
   ]
  },
  {
   "cell_type": "code",
   "execution_count": 14,
   "metadata": {
    "collapsed": true
   },
   "outputs": [],
   "source": [
    "# Predict the labels of the test set: y_pred\n",
    "y_pred = pipeline.predict(X_test)"
   ]
  },
  {
   "cell_type": "code",
   "execution_count": 15,
   "metadata": {},
   "outputs": [
    {
     "name": "stdout",
     "output_type": "stream",
     "text": [
      "Accuracy: 0.9484778742546291\n",
      "             precision    recall  f1-score   support\n",
      "\n",
      "      False       0.96      0.98      0.97     33671\n",
      "       True       0.85      0.69      0.76      4565\n",
      "\n",
      "avg / total       0.95      0.95      0.95     38236\n",
      "\n"
     ]
    }
   ],
   "source": [
    "# Compute and print metrics\n",
    "print(\"Accuracy: {}\".format(pipeline.score(X_test, y_test)))\n",
    "print(metrics.classification_report(y_test, y_pred))\n"
   ]
  },
  {
   "cell_type": "code",
   "execution_count": 16,
   "metadata": {},
   "outputs": [
    {
     "data": {
      "image/png": "[encoded data removed]",
      "text/plain": [
       "<matplotlib.figure.Figure at 0x1237eb7f0>"
      ]
     },
     "metadata": {},
     "output_type": "display_data"
    }
   ],
   "source": [
    "# building the graph for classification report\n",
    "precision, recall, thresholds = precision_recall_curve(y_test, y_pred)\n",
    "decision_threshold = np.append(thresholds, 1)\n",
    "\n",
    "plt.plot(decision_threshold, precision, color='red')\n",
    "plt.plot(decision_threshold, recall, color='blue')\n",
    "leg = plt.legend(('precision', 'recall'), frameon=True)\n",
    "leg.get_frame().set_edgecolor('k')\n",
    "plt.xlabel('decision_threshold')\n",
    "plt.ylabel('%')\n",
    "plt.show()"
   ]
  },
  {
   "cell_type": "markdown",
   "metadata": {},
   "source": [
    "Use of other dataset to deeply test the model"
   ]
  },
  {
   "cell_type": "code",
   "execution_count": 17,
   "metadata": {},
   "outputs": [
    {
     "name": "stdout",
     "output_type": "stream",
     "text": [
      "rev_id\n",
      "37675     I believe the main reason the borders of the e...\n",
      "44816     It's 2017, it's time to show the enemy's winra...\n",
      "49851     The snowballing is even worse. Games are basic...\n",
      "89320      Next, maybe you could work on being less cond...\n",
      "93890                  This page will need disambiguation. \n",
      "102817    So much damage all around. Seen an Anivia crac...\n",
      "103624    I am gonna spoil you badass FuC$$$ if you are ...\n",
      "Name: comment, dtype: object\n"
     ]
    }
   ],
   "source": [
    "print(X_extverif)"
   ]
  },
  {
   "cell_type": "code",
   "execution_count": 18,
   "metadata": {},
   "outputs": [
    {
     "name": "stdout",
     "output_type": "stream",
     "text": [
      "[False False False False False False  True]\n"
     ]
    }
   ],
   "source": [
    "print(pipeline.predict(X_extverif))"
   ]
  },
  {
   "cell_type": "code",
   "execution_count": 19,
   "metadata": {},
   "outputs": [
    {
     "name": "stdout",
     "output_type": "stream",
     "text": [
      "ML Prevision: False \n",
      " Human Label : False \n",
      " I believe the main reason the borders of the enemy team were hidden until now was to avoid people to tilt before the game starts. 1) But now we see the honor flags (or the non honor flags which tells us that they're clearly level 0. Cuz it's not possible that hes level 5 but just got no honors last game.) of the enemy team, 2) we can check the enemy team information by tracing their IP or doing some hacking. So this reason is not so valid anymore. I don't think people would tilt for such things and it's really rewarding to show to your opponent you climbed from bronze to diamond in one season. \n",
      "\n",
      "ML Prevision: False \n",
      " Human Label : False \n",
      " It's 2017, it's time to show the enemy's winrate, playrate, ping, smurf or not, duo partner, graphic card details, bank account details, SSN, address. \n",
      "\n",
      "ML Prevision: False \n",
      " Human Label : False \n",
      " The snowballing is even worse. Games are basically decided in the first 10-15 minutes and 25 minutes is the new 40 minutes. \n",
      "\n",
      "ML Prevision: False \n",
      " Human Label : False \n",
      "  Next, maybe you could work on being less condescending with your suggestions about reading the naming conventions and FDL, both of which I read quite a while ago, thanks. I really liked the bit where you were explaining why you had no interest in fixing things I complained about because you felt insulted, yet you were being extremely insulting at the time. With any luck, you can learn to be less of a jerk. GregLindahl        \n",
      "\n",
      "ML Prevision: False \n",
      " Human Label : False \n",
      " This page will need disambiguation.  \n",
      "\n",
      "ML Prevision: False \n",
      " Human Label : False \n",
      " So much damage all around. Seen an Anivia crack someone for 1600HP in less than 5 seconds. If you are under 700HP at any time, you are gone. Yorick can wipe someone clean at level 3. \n",
      "\n",
      "ML Prevision: True \n",
      " Human Label : True \n",
      " I am gonna spoil you badass FuC$$$ if you are ba$stard! \n",
      "\n"
     ]
    }
   ],
   "source": [
    "for text, target in zip(X_extverif, y_extverif):\n",
    "    print('ML Prevision: {}'.format(pipeline.predict([text])[0]), '\\n', 'Human Label : {}'.format(target), '\\n', text, '\\n')"
   ]
  }
 ],
 "metadata": {
  "kernelspec": {
   "display_name": "Python 3",
   "language": "python",
   "name": "python3"
  },
  "language_info": {
   "codemirror_mode": {
    "name": "ipython",
    "version": 3
   },
   "file_extension": ".py",
   "mimetype": "text/x-python",
   "name": "python",
   "nbconvert_exporter": "python",
   "pygments_lexer": "ipython3",
   "version": "3.6.1"
  }
 },
 "nbformat": 4,
 "nbformat_minor": 2
}
