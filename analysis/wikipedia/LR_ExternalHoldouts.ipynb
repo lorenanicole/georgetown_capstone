{
 "cells": [
  {
   "cell_type": "code",
   "execution_count": 1,
   "metadata": {},
   "outputs": [
    {
     "name": "stderr",
     "output_type": "stream",
     "text": [
      "/anaconda/lib/python3.6/site-packages/sklearn/cross_validation.py:44: DeprecationWarning: This module was deprecated in version 0.18 in favor of the model_selection module into which all the refactored classes and functions are moved. Also note that the interface of the new CV iterators are different from that of this module. This module will be removed in 0.20.\n",
      "  \"This module will be removed in 0.20.\", DeprecationWarning)\n"
     ]
    }
   ],
   "source": [
    "import numpy as np\n",
    "import pandas as pd\n",
    "import json\n",
    "from sklearn.model_selection import train_test_split\n",
    "from sklearn.feature_extraction.text import CountVectorizer\n",
    "from sklearn.pipeline import Pipeline\n",
    "from sklearn import metrics\n",
    "from sklearn import cross_validation\n",
    "from sklearn.feature_extraction.text import TfidfTransformer\n",
    "from sklearn.linear_model import LogisticRegression\n",
    "from yellowbrick.classifier import ClassificationReport"
   ]
  },
  {
   "cell_type": "code",
   "execution_count": 2,
   "metadata": {
    "collapsed": true
   },
   "outputs": [],
   "source": [
    "# load data for training and test splits into DataFrame\n",
    "comments = pd.read_csv('attack_annotated_comments.tsv', sep='\\t', index_col=0)\n",
    "annotations = pd.read_csv('attack_annotations.tsv', sep='\\t')"
   ]
  },
  {
   "cell_type": "code",
   "execution_count": 3,
   "metadata": {},
   "outputs": [
    {
     "name": "stdout",
     "output_type": "stream",
     "text": [
      "There are 115864 unique rev_id\n"
     ]
    }
   ],
   "source": [
    "# print the # of unique rev_id\n",
    "print('There are', len(annotations['rev_id'].unique()), 'unique rev_id')"
   ]
  },
  {
   "cell_type": "code",
   "execution_count": 4,
   "metadata": {
    "collapsed": true
   },
   "outputs": [],
   "source": [
    "# labels a comment as an attack if the majority of annotators did so\n",
    "labels = annotations.groupby('rev_id')['attack'].mean() > 0.5"
   ]
  },
  {
   "cell_type": "code",
   "execution_count": 5,
   "metadata": {
    "collapsed": true
   },
   "outputs": [],
   "source": [
    "# insert labels in comments\n",
    "comments['attack'] = labels"
   ]
  },
  {
   "cell_type": "code",
   "execution_count": 6,
   "metadata": {
    "collapsed": true
   },
   "outputs": [],
   "source": [
    "# Parsing: remove newline and tab tokens\n",
    "comments['comment'] = comments['comment'].apply(lambda x: x.replace(\"NEWLINE_TOKEN\", \" \"))\n",
    "comments['comment'] = comments['comment'].apply(lambda x: x.replace(\"TAB_TOKEN\", \" \"))\n"
   ]
  },
  {
   "cell_type": "code",
   "execution_count": 7,
   "metadata": {
    "collapsed": true
   },
   "outputs": [],
   "source": [
    "# holdout external files for later ML predictions\n",
    "politics_filename = 'politics_comments.json'\n",
    "vgames_filename = 'Leagueoflegends_submissions.json'\n",
    "soccer_filename = 'soccer_comments.json'"
   ]
  },
  {
   "cell_type": "code",
   "execution_count": 8,
   "metadata": {
    "collapsed": true
   },
   "outputs": [],
   "source": [
    "# POLITICS\n",
    "\n",
    "with open(politics_filename, 'r') as pol_f:\n",
    "    politics_dict = json.load(pol_f)\n",
    "\n",
    "politics_df = pd.DataFrame(politics_dict)\n",
    "politics_comments = politics_df['body']"
   ]
  },
  {
   "cell_type": "code",
   "execution_count": 9,
   "metadata": {
    "collapsed": true
   },
   "outputs": [],
   "source": [
    "# GAMES\n",
    "\n",
    "with open(vgames_filename, 'r') as vgames_f:\n",
    "    vgames_dict = json.load(vgames_f)\n",
    "\n",
    "vgames_df = pd.DataFrame(vgames_dict)\n",
    "vgames_comments = vgames_df['selftext']"
   ]
  },
  {
   "cell_type": "code",
   "execution_count": 10,
   "metadata": {
    "collapsed": true
   },
   "outputs": [],
   "source": [
    "# SOCCER\n",
    "\n",
    "with open(soccer_filename, 'r') as soc_f:\n",
    "    soccer_dict = json.load(soc_f)\n",
    "\n",
    "soccer_df = pd.DataFrame(soccer_dict)\n",
    "soccer_comments = soccer_df['body']"
   ]
  },
  {
   "cell_type": "code",
   "execution_count": 11,
   "metadata": {},
   "outputs": [
    {
     "name": "stdout",
     "output_type": "stream",
     "text": [
      "This is your DataFrame:\n",
      "\n",
      "                                                  comment  year  logged_in  \\\n",
      "rev_id                                                                       \n",
      "37675   `- This is not ``creative``.  Those are the di...  2002      False   \n",
      "44816   `  :: the term ``standard model`` is itself le...  2002      False   \n",
      "49851     True or false, the situation as of March 200...  2002      False   \n",
      "89320    Next, maybe you could work on being less cond...  2002       True   \n",
      "93890                This page will need disambiguation.   2002       True   \n",
      "\n",
      "             ns  sample  split  attack  \n",
      "rev_id                                  \n",
      "37675   article  random  train   False  \n",
      "44816   article  random  train   False  \n",
      "49851   article  random  train   False  \n",
      "89320   article  random    dev   False  \n",
      "93890   article  random  train   False  \n",
      "These are the head of the comments classified as an attack\n",
      "\n",
      "rev_id\n",
      "801279             Iraq is not good  ===  ===  USA is bad   \n",
      "2702703      ____ fuck off you little asshole. If you wan...\n",
      "4632658         i have a dick, its bigger than yours! hahaha\n",
      "6545332      == renault ==  you sad little bpy for drivin...\n",
      "6545351      == renault ==  you sad little bo for driving...\n",
      "Name: comment, dtype: object\n"
     ]
    }
   ],
   "source": [
    "# Presentation\n",
    "\n",
    "print('This is your DataFrame:\\n')\n",
    "print(comments.head())\n",
    "print('These are the head of the comments classified as an attack\\n')\n",
    "print(comments.query('attack')['comment'].head())"
   ]
  },
  {
   "cell_type": "code",
   "execution_count": 12,
   "metadata": {
    "collapsed": true
   },
   "outputs": [],
   "source": [
    "# hold split\n",
    "\n",
    "X_politics = politics_comments\n",
    "X_vgames = vgames_comments\n",
    "X_soccer = soccer_comments"
   ]
  },
  {
   "cell_type": "code",
   "execution_count": 13,
   "metadata": {
    "collapsed": true
   },
   "outputs": [],
   "source": [
    "# Defining X and y\n",
    "X = comments['comment']\n",
    "y = comments['attack']"
   ]
  },
  {
   "cell_type": "code",
   "execution_count": 14,
   "metadata": {
    "collapsed": true
   },
   "outputs": [],
   "source": [
    "# internal splits for training and testing\n",
    "X_train, X_test, y_train, y_test = cross_validation.train_test_split(X, y, test_size=0.33, random_state=53)"
   ]
  },
  {
   "cell_type": "code",
   "execution_count": 15,
   "metadata": {
    "collapsed": true
   },
   "outputs": [],
   "source": [
    "# Setup the pipeline\n",
    "steps = [('vec', CountVectorizer(analyzer='char', ngram_range=(1, 5), max_features=50000)),\n",
    "         ('tfidf', TfidfTransformer(norm='l2', sublinear_tf=True)),\n",
    "         ('clf', LogisticRegression(C=10))]"
   ]
  },
  {
   "cell_type": "code",
   "execution_count": 16,
   "metadata": {
    "collapsed": true
   },
   "outputs": [],
   "source": [
    "pipeline = Pipeline(steps)"
   ]
  },
  {
   "cell_type": "code",
   "execution_count": 17,
   "metadata": {},
   "outputs": [
    {
     "data": {
      "text/plain": [
       "Pipeline(steps=[('vec', CountVectorizer(analyzer='char', binary=False, decode_error='strict',\n",
       "        dtype=<class 'numpy.int64'>, encoding='utf-8', input='content',\n",
       "        lowercase=True, max_df=1.0, max_features=50000, min_df=1,\n",
       "        ngram_range=(1, 5), preprocessor=None, stop_words=None,\n",
       "        strip...ty='l2', random_state=None, solver='liblinear', tol=0.0001,\n",
       "          verbose=0, warm_start=False))])"
      ]
     },
     "execution_count": 17,
     "metadata": {},
     "output_type": "execute_result"
    }
   ],
   "source": [
    "# Fit to the training set (this is where the learning is; with X_train it learns the associated labels, y_train)\n",
    "pipeline.fit(X_train, y_train)"
   ]
  },
  {
   "cell_type": "code",
   "execution_count": 18,
   "metadata": {
    "collapsed": true
   },
   "outputs": [],
   "source": [
    "# Predict the labels of the test set: y_pred\n",
    "y_pred = pipeline.predict(X_test)"
   ]
  },
  {
   "cell_type": "code",
   "execution_count": 19,
   "metadata": {},
   "outputs": [
    {
     "name": "stdout",
     "output_type": "stream",
     "text": [
      "Accuracy: 0.9484778742546291\n",
      "\n",
      "\n",
      "\n",
      "\n",
      "             precision    recall  f1-score   support\n",
      "\n",
      "      False       0.96      0.98      0.97     33671\n",
      "       True       0.85      0.69      0.76      4565\n",
      "\n",
      "avg / total       0.95      0.95      0.95     38236\n",
      "\n"
     ]
    }
   ],
   "source": [
    "# Compute and print metrics\n",
    "print(\"Accuracy: {}\".format(pipeline.score(X_test, y_test)))\n",
    "print('\\n\\n\\n')\n",
    "print(metrics.classification_report(y_test, y_pred))"
   ]
  },
  {
   "cell_type": "code",
   "execution_count": 20,
   "metadata": {},
   "outputs": [
    {
     "data": {
      "image/png": "[encoded data removed]",
      "text/plain": [
       "<matplotlib.figure.Figure at 0x12e1ca208>"
      ]
     },
     "metadata": {},
     "output_type": "display_data"
    }
   ],
   "source": [
    "# Instantiate the classification model and visualizer with YellowBrick\n",
    "visualizer = ClassificationReport(pipeline, classes=['regular', 'attack'])\n",
    "visualizer.fit(X_train, y_train)\n",
    "visualizer.score(X_train, y_train)\n",
    "visualizer.poof()"
   ]
  },
  {
   "cell_type": "markdown",
   "metadata": {},
   "source": [
    "# HOLDOUT OUTPUTS"
   ]
  },
  {
   "cell_type": "markdown",
   "metadata": {},
   "source": [
    "## POLITICS from Reddit"
   ]
  },
  {
   "cell_type": "code",
   "execution_count": 21,
   "metadata": {},
   "outputs": [
    {
     "name": "stdout",
     "output_type": "stream",
     "text": [
      "POLITICS COMMENTS \n",
      " \n",
      " \n",
      "\n"
     ]
    }
   ],
   "source": [
    "print('POLITICS COMMENTS', '\\n', '\\n', '\\n',)\n",
    "\n",
    "pipeline.predict(X_politics)\n",
    "\n",
    "politics_output = []\n",
    "\n",
    "for text in X_politics:\n",
    "    politics_output.append({'Comment': text, 'ML_Label': pipeline.predict([text])[0]})\n",
    "\n",
    "politics_outcome = pd.DataFrame(politics_output)\n",
    "\n",
    "politics_outcome.to_csv('politics_ML_evaluated.csv', index=False, header=False)"
   ]
  },
  {
   "cell_type": "code",
   "execution_count": 22,
   "metadata": {},
   "outputs": [
    {
     "name": "stdout",
     "output_type": "stream",
     "text": [
      "<bound method NDFrame.head of                                                Comment  ML_Label\n",
      "0    Flynn, Kushner, DT JR, sessions next for the c...     False\n",
      "1    Has anyone listened to Preet Bharara's podcast...     False\n",
      "2                               He's going to Jared.       False\n",
      "3               Is he a rook or a knight on the board?     False\n",
      "4    Here's the thing, the only person who can fire...     False\n",
      "5    Papadapolous > Manafort > Flynn > Kushner > Se...     False\n",
      "6    Everyone pay no attention to this nothingburge...     False\n",
      "7    So then why isn't the GOP calling for his resi...     False\n",
      "8    It's comforting to think that maybe, just mayb...     False\n",
      "9                                            Haha yes.     False\n",
      "10   Can't wait for Trump to say he barely knows hi...     False\n",
      "11   [Maybe a tad bit excited.](http://fanaru.com/a...     False\n",
      "12   Lmao whoever is responsible for firing Comey, ...      True\n",
      "13   [This video is becoming prophecy.](https://www...     False\n",
      "14   Hopefully it’s done in such a way that Trump d...     False\n",
      "15   I think phase 2 will happen in November: Flynn...     False\n",
      "16   [He's](http://www.cnn.com/2017/11/02/politics/...     False\n",
      "17   His podcast is really incredible. He does an e...     False\n",
      "18   he's already in a trap and that's why he hasn'...     False\n",
      "19       Fucking beautiful.  I need to listen to that.     False\n",
      "20   It's become my favorite podcast at this point,...     False\n",
      "21                                      which episode?     False\n",
      "22   Thanks for the recommendation. Just downloaded...     False\n",
      "23                                            Jailred*     False\n",
      "24   Considering he's in charge of corporate innova...     False\n",
      "25   A Knight.. Knights are very strong in cluttere...     False\n",
      "26                                             bish-up     False\n",
      "27   Pretty astonishing how fast the stupid White H...      True\n",
      "28   Or the buttery males. \\n\\nBut for real, this b...     False\n",
      "29                                   But her emails...     False\n",
      "..                                                 ...       ...\n",
      "901  The guy is running an intentionally conservati...     False\n",
      "902  Northam could be lying like Democrats used to ...     False\n",
      "903  Fuck we're going to lose...fuck Virginia is go...      True\n",
      "904  > The group pointed to Northam's comments sayi...      True\n",
      "905  We and everybody should give up hope. After th...     False\n",
      "906  Playing the fucking purity card. People just d...      True\n",
      "907  Hey everyone knows feeling superior is more im...     False\n",
      "908  Oh yeah that's a swell spread of evidence you ...     False\n",
      "909  We're at war for the soul of our country. Repu...     False\n",
      "910  Yeah, clearly there will be no difference to i...     False\n",
      "911  > Donna Brazile's and Elizabeth Warren's alleg...     False\n",
      "912  We are losing that war in part because the Dem...     False\n",
      "913  I'd consider parroting your opponents' positio...     False\n",
      "914  Don't apologize for this asshole. A comment li...     False\n",
      "915  I'm a Trump supporter and I agree with you. Th...     False\n",
      "916  What else am I supposed to say about a preside...     False\n",
      "917  >Plus a comment like that could very quickly b...     False\n",
      "918  Ralph Northam is not Republican light, there i...     False\n",
      "919  Wait.. I just checked the article to see what ...     False\n",
      "920  He should be running on a platform of being pr...     False\n",
      "921  Don't throw this \"purity tester\" horse shit ar...     False\n",
      "922  We've had 2 dem gov in a row without santuary ...     False\n",
      "923  Fantastic. We have 1 AG right now who is rampi...     False\n",
      "924  My turn, my turn:\\n\\n[Milo weighs in](https://...     False\n",
      "925  \"Mercer's decision to cut ties with Yiannopoul...     False\n",
      "926          He sold his leftovers to his daughters.       False\n",
      "927                               This never gets old.     False\n",
      "928                                  account suspended     False\n",
      "929                                   That's the joke      False\n",
      "930                                                 oh     False\n",
      "\n",
      "[931 rows x 2 columns]>\n"
     ]
    }
   ],
   "source": [
    "print(politics_outcome.head)"
   ]
  },
  {
   "cell_type": "markdown",
   "metadata": {},
   "source": [
    "## VIDEOGAMES (League of Legends) from Reddit"
   ]
  },
  {
   "cell_type": "code",
   "execution_count": 23,
   "metadata": {},
   "outputs": [
    {
     "name": "stdout",
     "output_type": "stream",
     "text": [
      "VIDEOGAMES COMMENTS \n",
      " \n",
      " \n",
      "\n"
     ]
    }
   ],
   "source": [
    "print('VIDEOGAMES COMMENTS', '\\n', '\\n', '\\n',)\n",
    "\n",
    "pipeline.predict(X_vgames)\n",
    "\n",
    "videogames_output = []\n",
    "\n",
    "for text in X_vgames:\n",
    "    videogames_output.append({'Comment': text, 'ML_Label': pipeline.predict([text])[0]})\n",
    "\n",
    "videogames_outcome = pd.DataFrame(videogames_output)\n",
    "\n",
    "videogames_outcome.to_csv('videogames_ML_evaluated.csv', index=False, header=False)"
   ]
  },
  {
   "cell_type": "code",
   "execution_count": 24,
   "metadata": {},
   "outputs": [
    {
     "name": "stdout",
     "output_type": "stream",
     "text": [
      "<bound method NDFrame.head of                                               Comment  ML_Label\n",
      "0   I believe the main reason the borders of the e...     False\n",
      "1   - The snowballing is even worse. Games are bas...     False\n",
      "2   # Definitive Preseason Guide\\n\\nHello! Welcome...     False\n",
      "3   I would like to request we remove the old CS m...     False\n",
      "4   So let me get this straight, I have to play li...     False\n",
      "5   I have dodged multiple times already and this ...     False\n",
      "6   Hello,\\n\\n\\n\\nSo since a lot of people value t...     False\n",
      "7   I had every single rune you can get. There is ...     False\n",
      "8   I was supposed to receive something like 10000...     False\n",
      "9                          We really missed you, bud.     False\n",
      "10  Today i calculated the amount of total combina...     False\n",
      "11  https://clips.twitch.tv/PrettyFlirtyAntTinyFac...     False\n",
      "12  I'm not gunna argue with that stupid ass Jayce...      True\n",
      "13  Kinda really disappointed to not see this yet....     False\n",
      "14  Okay, so with the preseason, Stopwatch now bui...     False\n",
      "15  I had 9 rune pages (bought with RP), but didnt...     False\n",
      "16  I don't see any reason as to why lower lvl pla...     False\n",
      "17  Is it just me or is the launcher getting slowe...     False\n",
      "18  Yep, that's right. I could not complete any fu...     False\n",
      "19                                                        False\n",
      "20  Was wondering whether I would decay in Master ...     False\n",
      "21  With the new runes being free and basically be...     False\n",
      "22  I don't like new rune system.  \\nAs someone wh...     False\n",
      "23  It's extremely annoying that you can't edit th...     False\n",
      "24  Maybe I missed something, but are we only allo...     False\n",
      "25  I'm still confused to why we can't see our war...     False\n",
      "26  Money Money Money Money Money Money Money Mone...     False\n",
      "27           Seems we don't get them anymore per game     False\n",
      "28  hey guys\\n\\n\\nim one of the people that make s...     False\n",
      "29  Hello there.  \\nI can't access runes in both t...     False\n",
      "30  Now I'm 100% sure I bought two runepages with ...     False\n",
      "31  Just played a game and had two instances that ...     False\n",
      "32  So i was just in game and im not sure if it wa...     False\n",
      "33  I actually tried Ezreal support and I kid you ...     False\n",
      "34  https://imgur.com/a/kCAJT\\n\\nit mention an att...     False\n",
      "35  Have played LoL around 400 hours, and havnt re...     False\n",
      "36  I had lots and lots of Ruins and max ruin page...     False\n",
      "37  for 3950 BE it says we are guaranteed an unown...     False\n",
      "38  So I saw a couple of posts about this subject ...     False\n",
      "39  It's preseason, I get it, people are focused o...     False\n",
      "40  So when I went to sign into the new patch I go...     False\n",
      "41  https://streamable.com/85hgm\\n\\nDid Riot secre...     False\n",
      "42  I know I know, I'm a total control freak but i...     False\n",
      "43  too bad i cant make a rune page in champion se...     False\n",
      "44  Sorry that this is going to be a somewhat long...     False\n",
      "45      how do I view other regions all star votes ?      False\n",
      "46  I lost my 6 gemstones when the preseason patch...     False\n",
      "47  30-31 requires 2496 XP = 575 XP for first win ...     False\n",
      "48                                                        False\n",
      "49  Just got a champion SHARD from leveling to lvl...     False\n",
      "50  I'm goin with my patented Taric Top and Press ...     False\n",
      "51  Hi I want to play league but I have no idea wh...     False\n",
      "52  Who's buff with these new pages? What are your...     False\n",
      "53  Not sure if it is coincidence, but it seems li...     False\n",
      "54                                  or is it just me?     False\n",
      "55  For some reason after todays patch league open...     False\n",
      "56  Preferably a clip from the best teams and the ...     False>\n"
     ]
    }
   ],
   "source": [
    "print(videogames_outcome.head)"
   ]
  },
  {
   "cell_type": "markdown",
   "metadata": {},
   "source": [
    "## SOCCER from Reddit"
   ]
  },
  {
   "cell_type": "code",
   "execution_count": 25,
   "metadata": {},
   "outputs": [
    {
     "name": "stdout",
     "output_type": "stream",
     "text": [
      "SOCCER COMMENTS \n",
      " \n",
      " \n",
      "\n"
     ]
    }
   ],
   "source": [
    "print('SOCCER COMMENTS', '\\n', '\\n', '\\n',)\n",
    "\n",
    "\n",
    "pipeline.predict(X_soccer)\n",
    "\n",
    "soccer_output = []\n",
    "\n",
    "for text in X_soccer:\n",
    "    soccer_output.append({'Comment': text, 'ML_Label': pipeline.predict([text])[0]})\n",
    "\n",
    "soccer_outcome = pd.DataFrame(soccer_output)\n",
    "\n",
    "soccer_outcome.to_csv('soccer_ML_evaluated.csv', index=False, header=False)"
   ]
  },
  {
   "cell_type": "code",
   "execution_count": 26,
   "metadata": {},
   "outputs": [
    {
     "name": "stdout",
     "output_type": "stream",
     "text": [
      "<bound method NDFrame.head of                                               Comment  ML_Label\n",
      "0   \"You're a fucking monkey.... quick lets jump a...      True\n",
      "1   Why is it *always* Zenit I hear about this wit...     False\n",
      "2   Think this will happen at the World Cup? Hones...     False\n",
      "3   But comrade Stan Collymore said racism doesn't...     False\n",
      "4   > DUELL: Zenits Emiliano Rigoni i duell med Sa...     False\n",
      "5                    Give Rosenberg a 3-0 def win tbh     False\n",
      "6                                             Classic     False\n",
      "7   ''it won't be safe next summer in Russia'' obl...     False\n",
      "8   Lol a few years ago Zenit had a total of zero ...     False\n",
      "9   They’ve had none remotely close to the first t...     False\n",
      "10  Zenit fans always say \"In the colors of Zenith...     False\n",
      "11  Yep, unfortunately. Makes me ashamed to be a Z...     False\n",
      "12  Their ultras are pure, distilled scum. Look wh...     False\n",
      "13                                    Yes definitely      False\n",
      "14  Fuck no I don't think the Goverment will allow...     False\n",
      "15                            журналист!! журналист!!     False\n",
      "16  Lot's of American twitter accounts with flags ...     False\n",
      "17                                    It's translatee     False\n",
      "18                                          [deleted]     False\n",
      "19                       Seems like that's by design      False\n",
      "20                What about Rondon and Bruno Alves?      False\n",
      "21  Then why it didnt happen last year? Stop shitt...      True\n",
      "22                     Their Winter Olympic did that.     False\n",
      "23  So Mammana translates to Rigoni in your langua...     False\n",
      "24  What about black fans in attendance... regardl...     False\n",
      "25      hmm comment not liberal enough to be upvoted      False\n",
      "26  Surely there was some tension about Alves. I r...     False\n",
      "27  You must be used to the fact people not knowin...      True\n",
      "28  You do know that there is a huge amount of stu...     False\n",
      "29                    Liberalism is a mental disorder     False\n",
      "30  English people especially. Still mad that they...     False>\n"
     ]
    }
   ],
   "source": [
    "print(soccer_outcome.head)"
   ]
  },
  {
   "cell_type": "code",
   "execution_count": null,
   "metadata": {
    "collapsed": true
   },
   "outputs": [],
   "source": []
  }
 ],
 "metadata": {
  "kernelspec": {
   "display_name": "Python 3",
   "language": "python",
   "name": "python3"
  },
  "language_info": {
   "codemirror_mode": {
    "name": "ipython",
    "version": 3
   },
   "file_extension": ".py",
   "mimetype": "text/x-python",
   "name": "python",
   "nbconvert_exporter": "python",
   "pygments_lexer": "ipython3",
   "version": "3.6.1"
  }
 },
 "nbformat": 4,
 "nbformat_minor": 2
}
