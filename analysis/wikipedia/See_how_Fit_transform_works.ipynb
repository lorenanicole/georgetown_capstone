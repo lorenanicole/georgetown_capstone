{
 "cells": [
  {
   "cell_type": "code",
   "execution_count": 1,
   "metadata": {
    "collapsed": true
   },
   "outputs": [],
   "source": [
    "import pandas as pd\n",
    "from sklearn.model_selection import train_test_split\n",
    "from sklearn.feature_extraction.text import CountVectorizer"
   ]
  },
  {
   "cell_type": "code",
   "execution_count": 2,
   "metadata": {
    "collapsed": true
   },
   "outputs": [],
   "source": [
    "comments = pd.read_csv('attack_annotated_comments.tsv', sep='\\t', index_col=0)\n",
    "annotations = pd.read_csv('attack_annotations.tsv', sep='\\t')\n"
   ]
  },
  {
   "cell_type": "code",
   "execution_count": 3,
   "metadata": {
    "collapsed": true
   },
   "outputs": [],
   "source": [
    "labels = annotations.groupby('rev_id')['attack'].mean() > 0.5"
   ]
  },
  {
   "cell_type": "code",
   "execution_count": 4,
   "metadata": {
    "collapsed": true
   },
   "outputs": [],
   "source": [
    "comments['attack'] = labels"
   ]
  },
  {
   "cell_type": "code",
   "execution_count": 5,
   "metadata": {
    "collapsed": true
   },
   "outputs": [],
   "source": [
    "comments['comment'] = comments['comment'].apply(lambda x: x.replace(\"NEWLINE_TOKEN\", \" \"))\n",
    "comments['comment'] = comments['comment'].apply(lambda x: x.replace(\"TAB_TOKEN\", \" \"))"
   ]
  },
  {
   "cell_type": "code",
   "execution_count": 6,
   "metadata": {
    "collapsed": true
   },
   "outputs": [],
   "source": [
    "X = comments['comment']\n",
    "y = comments['attack']"
   ]
  },
  {
   "cell_type": "code",
   "execution_count": 7,
   "metadata": {
    "collapsed": true
   },
   "outputs": [],
   "source": [
    "X_train, X_test, y_train, y_test = train_test_split(X, y, test_size=0.33, random_state=53)"
   ]
  },
  {
   "cell_type": "code",
   "execution_count": 8,
   "metadata": {
    "collapsed": true
   },
   "outputs": [],
   "source": [
    "count_vectorizer = CountVectorizer()"
   ]
  },
  {
   "cell_type": "code",
   "execution_count": 9,
   "metadata": {
    "collapsed": true
   },
   "outputs": [],
   "source": [
    "count_train = count_vectorizer.fit_transform(X_train.values)\n",
    "count_test = count_vectorizer.transform(X_test.values)"
   ]
  },
  {
   "cell_type": "code",
   "execution_count": 10,
   "metadata": {},
   "outputs": [
    {
     "name": "stdout",
     "output_type": "stream",
     "text": [
      "  (0, 10901)\t1\n",
      "  (0, 110882)\t1\n",
      "  (0, 12436)\t1\n",
      "  (0, 91286)\t1\n",
      "  (0, 59892)\t1\n",
      "  (0, 119775)\t1\n",
      "  (0, 108237)\t1\n",
      "  (0, 54186)\t1\n",
      "  (0, 39968)\t1\n",
      "  (0, 20569)\t1\n",
      "  (0, 21958)\t1\n",
      "  (0, 107945)\t1\n",
      "  (0, 76640)\t1\n",
      "  (0, 24842)\t1\n",
      "  (0, 57559)\t2\n",
      "  (0, 107901)\t2\n",
      "  (1, 18477)\t1\n",
      "  (1, 69851)\t1\n",
      "  (1, 34934)\t1\n",
      "  (1, 103307)\t1\n",
      "  (1, 93178)\t1\n",
      "  (1, 55881)\t1\n",
      "  (1, 16679)\t1\n",
      "  (1, 87114)\t1\n",
      "  (1, 77931)\t1\n",
      "  :\t:\n",
      "  (77627, 76333)\t1\n",
      "  (77627, 109759)\t1\n",
      "  (77627, 1881)\t2\n",
      "  (77627, 8947)\t1\n",
      "  (77627, 80288)\t3\n",
      "  (77627, 114647)\t1\n",
      "  (77627, 14326)\t1\n",
      "  (77627, 101004)\t1\n",
      "  (77627, 1904)\t1\n",
      "  (77627, 18697)\t1\n",
      "  (77627, 104066)\t3\n",
      "  (77627, 89765)\t1\n",
      "  (77627, 55376)\t1\n",
      "  (77627, 98536)\t1\n",
      "  (77627, 50453)\t1\n",
      "  (77627, 43683)\t1\n",
      "  (77627, 15925)\t1\n",
      "  (77627, 20701)\t1\n",
      "  (77627, 15646)\t1\n",
      "  (77627, 121111)\t1\n",
      "  (77627, 43790)\t2\n",
      "  (77627, 109416)\t1\n",
      "  (77627, 118613)\t1\n",
      "  (77627, 107945)\t3\n",
      "  (77627, 57559)\t1\n"
     ]
    }
   ],
   "source": [
    "print(count_train)"
   ]
  },
  {
   "cell_type": "code",
   "execution_count": 11,
   "metadata": {},
   "outputs": [
    {
     "name": "stdout",
     "output_type": "stream",
     "text": [
      "  (0, 9001)\t1\n",
      "  (0, 10018)\t7\n",
      "  (0, 12436)\t1\n",
      "  (0, 13039)\t2\n",
      "  (0, 14480)\t1\n",
      "  (0, 15646)\t1\n",
      "  (0, 15925)\t1\n",
      "  (0, 16614)\t1\n",
      "  (0, 16679)\t1\n",
      "  (0, 17425)\t1\n",
      "  (0, 18573)\t2\n",
      "  (0, 20569)\t3\n",
      "  (0, 21265)\t1\n",
      "  (0, 22302)\t1\n",
      "  (0, 23460)\t1\n",
      "  (0, 24376)\t2\n",
      "  (0, 25964)\t2\n",
      "  (0, 28387)\t2\n",
      "  (0, 29713)\t3\n",
      "  (0, 31668)\t1\n",
      "  (0, 32424)\t1\n",
      "  (0, 33198)\t1\n",
      "  (0, 34786)\t1\n",
      "  (0, 34934)\t1\n",
      "  (0, 36381)\t1\n",
      "  :\t:\n",
      "  (38234, 106827)\t1\n",
      "  (38234, 107591)\t1\n",
      "  (38234, 107945)\t3\n",
      "  (38234, 109416)\t2\n",
      "  (38234, 114072)\t1\n",
      "  (38234, 118124)\t1\n",
      "  (38234, 119210)\t1\n",
      "  (38234, 121062)\t1\n",
      "  (38235, 15646)\t1\n",
      "  (38235, 41194)\t1\n",
      "  (38235, 44771)\t1\n",
      "  (38235, 50788)\t1\n",
      "  (38235, 54186)\t1\n",
      "  (38235, 55012)\t1\n",
      "  (38235, 77433)\t1\n",
      "  (38235, 78212)\t1\n",
      "  (38235, 86671)\t1\n",
      "  (38235, 87810)\t1\n",
      "  (38235, 91092)\t1\n",
      "  (38235, 107901)\t1\n",
      "  (38235, 107945)\t1\n",
      "  (38235, 108134)\t1\n",
      "  (38235, 117619)\t1\n",
      "  (38235, 118908)\t1\n",
      "  (38235, 120736)\t1\n"
     ]
    }
   ],
   "source": [
    "print(count_test)"
   ]
  },
  {
   "cell_type": "code",
   "execution_count": 12,
   "metadata": {},
   "outputs": [
    {
     "name": "stdout",
     "output_type": "stream",
     "text": [
      "<bound method NDFrame.head of rev_id\n",
      "37675        `- This is not ``creative``.  Those are the di...\n",
      "44816        `  :: the term ``standard model`` is itself le...\n",
      "49851          True or false, the situation as of March 200...\n",
      "89320         Next, maybe you could work on being less cond...\n",
      "93890                     This page will need disambiguation. \n",
      "102817        -  Important note for all sysops: There is a ...\n",
      "103624       I removed the following:  All names of early P...\n",
      "111032       `:If you ever claimed in a Judaic studies prog...\n",
      "120283          My apologies  I'm English, I watch cricket,...\n",
      "128532       `Someone wrote: More recognizable, perhaps, is...\n",
      "133562         :Correct. Full biographical details will put...\n",
      "138117       `  Care should be taken to distinguish when an...\n",
      "155243         :If I may butt in  I've spent the last 1/4 h...\n",
      "177310          On my  you will find the apology that I owe...\n",
      "192579       `  :<>>  :I fail to see the distinction.  Who ...\n",
      "201190                         gets far more tendentious yet. \n",
      "208009       `  As a person who has done some of this activ...\n",
      "249432       It's great that we've found a new source of fr...\n",
      "252031           :No, I really haven't heard of either one,...\n",
      "268558         I'd like the concepts of microevolution and ...\n",
      "276906           I agree, the first one is simply wrong, an...\n",
      "286174           Yep, that's Twin cities from which this ar...\n",
      "290598       `      That's another relevant empirical quest...\n",
      "294124           : This sounds right. Historians speak of t...\n",
      "297866           Ummm. The article uses imperial measuremen...\n",
      "317177                               See? I was right! ;-)    \n",
      "336654         :I have checked the licenses, and it is publ...\n",
      "344567       ` Changed Macedonia link to Macedon; ancients ...\n",
      "356383       `   :Incidentally, re naming conventions: the ...\n",
      "358984       `I removed ``from scratch``. In addition to yo...\n",
      "                                   ...                        \n",
      "699646005     Don't keep changing my page I made please. Yo...\n",
      "699659494    im soory since when is google images not allow...\n",
      "699660419    what ever you fuggin fag Question how did you ...\n",
      "699661020      == Nice try but no cigar........idiot ==  Th...\n",
      "699661834    `  == kys ==  {| style=``background-color: #fd...\n",
      "699663770      == hi Drmies ==  My name's Little Cletus, I'...\n",
      "699664687     shut up mind your own business and go fuck so...\n",
      "699667660    This talk page is actually a better place to d...\n",
      "699683891      == defunct?== The article sources a claim th...\n",
      "699698850      Yeah, I realized I created a duplicate ID. S...\n",
      "699702006     :There's some weaseling and pov pushing in th...\n",
      "699703322    ` :::Yeah and in the earlier sentence I'd rewo...\n",
      "699715740    ` :::::::::::::Again, WP:NOTAFORUM (and there'...\n",
      "699728036                        `  [``Those Were the Days``]`\n",
      "699730832      == Japanese Scene ==  The largely neoclassic...\n",
      "699732149     I am sorry I was only apologizing for if my i...\n",
      "699741197    `  == Jim1138 ==  Hi.  How did you get involve...\n",
      "699753082      == Why oh why... ==   You removed the trolls...\n",
      "699755057      == Daily Beast Article ==  I'm removing the ...\n",
      "699756053    `The lead also lacks proper citation and sourc...\n",
      "699756185    `   The lead itself is original research. Wher...\n",
      "699780538                         :::::: Well done, thanks!   \n",
      "699813325    ` ::I'm talking about you making unjustified m...\n",
      "699820699    ` Yes, from the word ``Guci`` or ``Puci`` mean...\n",
      "699822249    `  :``Comment````. Gentlemen, this article pro...\n",
      "699848324    `   These sources don't exactly exude a sense ...\n",
      "699851288      The Institute for Historical Review is a pee...\n",
      "699857133     :The way you're trying to describe it in this...\n",
      "699891012      == Warning ==  There is clearly a protection...\n",
      "699897151    Alternate option=== Is there perhaps enough ne...\n",
      "Name: comment, Length: 115864, dtype: object>\n"
     ]
    }
   ],
   "source": [
    "print(X.head)"
   ]
  },
  {
   "cell_type": "code",
   "execution_count": 13,
   "metadata": {
    "collapsed": true
   },
   "outputs": [],
   "source": [
    "frase=[\"Don't keep changing my page I made please\",\"This is another row\"]"
   ]
  },
  {
   "cell_type": "code",
   "execution_count": 14,
   "metadata": {
    "collapsed": true
   },
   "outputs": [],
   "source": [
    "vect = CountVectorizer(min_df=0., max_df=1.0)"
   ]
  },
  {
   "cell_type": "code",
   "execution_count": 15,
   "metadata": {
    "collapsed": true
   },
   "outputs": [],
   "source": [
    "X = vect.fit_transform(frase)"
   ]
  },
  {
   "cell_type": "code",
   "execution_count": 48,
   "metadata": {},
   "outputs": [
    {
     "name": "stdout",
     "output_type": "stream",
     "text": [
      "  (0, 8)\t1\n",
      "  (0, 5)\t1\n",
      "  (0, 7)\t1\n",
      "  (0, 6)\t1\n",
      "  (0, 1)\t1\n",
      "  (0, 4)\t1\n",
      "  (0, 2)\t1\n",
      "  (1, 9)\t1\n",
      "  (1, 0)\t1\n",
      "  (1, 3)\t1\n",
      "  (1, 10)\t1\n"
     ]
    }
   ],
   "source": [
    "print(X)"
   ]
  },
  {
   "cell_type": "code",
   "execution_count": 16,
   "metadata": {},
   "outputs": [
    {
     "name": "stdout",
     "output_type": "stream",
     "text": [
      "   another  changing  don  is  keep  made  my  page  please  row  this\n",
      "0        0         1    1   0     1     1   1     1       1    0     0\n",
      "1        1         0    0   1     0     0   0     0       0    1     1\n"
     ]
    }
   ],
   "source": [
    "from pandas import DataFrame\n",
    "print(DataFrame(X.A, columns=vect.get_feature_names()).to_string())"
   ]
  },
  {
   "cell_type": "code",
   "execution_count": 17,
   "metadata": {
    "collapsed": true
   },
   "outputs": [],
   "source": [
    "import nltk"
   ]
  },
  {
   "cell_type": "code",
   "execution_count": 18,
   "metadata": {
    "collapsed": true
   },
   "outputs": [],
   "source": [
    "import numpy as np"
   ]
  },
  {
   "cell_type": "code",
   "execution_count": 19,
   "metadata": {},
   "outputs": [
    {
     "name": "stdout",
     "output_type": "stream",
     "text": [
      "                                                  comment  year  logged_in  \\\n",
      "rev_id                                                                       \n",
      "49851     True or false, the situation as of March 200...  2002      False   \n",
      "\n",
      "             ns  sample  split  attack  \n",
      "rev_id                                  \n",
      "49851   article  random  train   False  \n"
     ]
    }
   ],
   "source": [
    "print(comments.iloc[[2]])"
   ]
  },
  {
   "cell_type": "code",
   "execution_count": 20,
   "metadata": {},
   "outputs": [
    {
     "name": "stdout",
     "output_type": "stream",
     "text": [
      "rev_id\n",
      "49851      True or false, the situation as of March 200...\n",
      "Name: comment, dtype: object\n"
     ]
    }
   ],
   "source": [
    "print(comments.iloc[[2],0])"
   ]
  },
  {
   "cell_type": "code",
   "execution_count": 21,
   "metadata": {
    "collapsed": true
   },
   "outputs": [],
   "source": [
    "sent1=nltk.Text(comments.iloc[[2],0])"
   ]
  },
  {
   "cell_type": "code",
   "execution_count": 22,
   "metadata": {},
   "outputs": [
    {
     "name": "stdout",
     "output_type": "stream",
     "text": [
      "<Text:   True or false, the situation as of March 2002 was such:  A Saudi proposal of Land for Peace AND recognition by ALL arab countries was made. The day the proposal was to be made formal by the Arab League was the day the Israeli's under the command of Ariel Sharon began the invasion of the Palestinian self-rule areas. user:Arab....>\n"
     ]
    }
   ],
   "source": [
    "print(sent1)"
   ]
  },
  {
   "cell_type": "code",
   "execution_count": null,
   "metadata": {
    "collapsed": true
   },
   "outputs": [],
   "source": []
  }
 ],
 "metadata": {
  "kernelspec": {
   "display_name": "Python 3",
   "language": "python",
   "name": "python3"
  },
  "language_info": {
   "codemirror_mode": {
    "name": "ipython",
    "version": 3
   },
   "file_extension": ".py",
   "mimetype": "text/x-python",
   "name": "python",
   "nbconvert_exporter": "python",
   "pygments_lexer": "ipython3",
   "version": "3.6.1"
  }
 },
 "nbformat": 4,
 "nbformat_minor": 2
}
